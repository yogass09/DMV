{
 "cells": [
  {
   "cell_type": "code",
   "execution_count": 1,
   "id": "2b27b1b0-10d6-4930-9244-1aa0c019d941",
   "metadata": {},
   "outputs": [],
   "source": [
    "import pandas as pd\n",
    "\n",
    "# Load the CSV file using the full path\n",
    "file_path_1 = r\"C:\\Users\\Pranav Darekar\\Documents\\all_coins_ohlcv_filtered\"\n",
    "df_ohlcv = pd.read_csv(file_path_1)\n",
    "\n",
    "file_path_2 = r\"C:\\Users\\Pranav Darekar\\Documents\\crypto_listings_latest_sorted\"\n",
    "df_crypto_listings_sorted = pd.read_csv(file_path_2)\n"
   ]
  },
  {
   "cell_type": "code",
   "execution_count": 2,
   "id": "abf69f10-57da-457c-8071-108ff6f896de",
   "metadata": {},
   "outputs": [],
   "source": [
    "# Set the slug column as the index for both DataFrames\n",
    "df_ohlcv.set_index('symbol', inplace=True)\n",
    "df_crypto_listings_sorted.set_index('symbol', inplace=True)\n",
    "\n",
    "# Perform an inner join on cmc_rank\n",
    "df = df_crypto_listings_sorted[['cmc_rank']].join(df_ohlcv, how='inner')\n",
    "\n",
    "# Filter rows where 'cmc_rank' is between 1 and 100 inclusive\n",
    "df = df[(df['cmc_rank'] >= 1) & (df['cmc_rank'] <= 1001)]\n",
    "\n",
    "\n"
   ]
  },
  {
   "cell_type": "code",
   "execution_count": 3,
   "id": "96943166-510a-4de4-918f-a1b3cd702b37",
   "metadata": {},
   "outputs": [],
   "source": [
    "# Ensure the timestamp column is in datetime format\n",
    "df['timestamp'] = pd.to_datetime(df['timestamp'])\n",
    "\n",
    "# Sort the DataFrame by 'slug' and 'timestamp' columns\n",
    "df.sort_values(by=['slug', 'timestamp'], inplace=True)\n",
    "\n",
    "# Perform time-series calculations within each group (each cryptocurrency)\n",
    "grouped = df.groupby('slug')\n",
    "\n",
    "\n"
   ]
  },
  {
   "cell_type": "code",
   "execution_count": 4,
   "id": "e88b4de6-28f4-4b92-8bd3-aa5592d48e15",
   "metadata": {},
   "outputs": [],
   "source": [
    "# Calculate percentage change for each cryptocurrency\n",
    "df['m_pct_1d'] = grouped['close'].pct_change()"
   ]
  },
  {
   "cell_type": "code",
   "execution_count": 5,
   "id": "bef249d0-0c44-4bf3-8457-ecbfbaafe85a",
   "metadata": {},
   "outputs": [],
   "source": [
    "# Calculate cumulative returns for each cryptocurrency\n",
    "df['d_pct_cum_ret'] = (1 + df['m_pct_1d']).groupby(df['slug']).cumprod() - 1"
   ]
  },
  {
   "cell_type": "code",
   "execution_count": 6,
   "id": "bf7b0d68-ea49-4c9d-80dd-2d6b211dec0a",
   "metadata": {},
   "outputs": [
    {
     "name": "stdout",
     "output_type": "stream",
     "text": [
      "999\n"
     ]
    }
   ],
   "source": [
    "# Get the unique values in the 'slug' column\n",
    "unique_slugs = df['slug'].unique()\n",
    "\n",
    "# Count the number of unique values\n",
    "unique_count = len(unique_slugs)\n",
    "\n",
    "print(unique_count)\n"
   ]
  },
  {
   "cell_type": "code",
   "execution_count": 7,
   "id": "af224d6e-3bde-4a23-9057-c014f6d1c2b2",
   "metadata": {},
   "outputs": [],
   "source": [
    "\n",
    "# Step 1: Calculate all-time high and all-time low, and their corresponding dates\n",
    "all_time_high = df.groupby('slug')['high'].max().reset_index()\n",
    "all_time_high.columns = ['slug', 'v_met_ath']\n",
    "\n",
    "all_time_low = df.groupby('slug')['low'].min().reset_index()\n",
    "all_time_low.columns = ['slug', 'v_met_atl']\n",
    "\n",
    "# Merge all-time high and low into the DataFrame\n",
    "df = pd.merge(df, all_time_high, on='slug', how='left')\n",
    "df = pd.merge(df, all_time_low, on='slug', how='left')\n",
    "\n",
    "# Step 2: Find the dates for ATH and ATL for each cryptocurrency\n",
    "ath_dates = df[df['high'] == df['v_met_ath']].groupby('slug')['timestamp'].max().reset_index()\n",
    "ath_dates.columns = ['slug', 'ath_date']\n",
    "\n",
    "atl_dates = df[df['low'] == df['v_met_atl']].groupby('slug')['timestamp'].max().reset_index()\n",
    "atl_dates.columns = ['slug', 'atl_date']\n",
    "\n",
    "# Merge the ATH and ATL dates back into the original DataFrame\n",
    "df = pd.merge(df, ath_dates, on='slug', how='left')\n",
    "df = pd.merge(df, atl_dates, on='slug', how='left')\n",
    "\n",
    "# Step 3: Calculate the number of days since ATH and ATL\n",
    "current_date = pd.Timestamp.now()\n",
    "df['d_met_ath_days'] = (current_date - df['ath_date']).dt.days\n",
    "df['d_met_atl_days'] = (current_date - df['atl_date']).dt.days\n",
    "\n",
    "# Convert days to weeks and months\n",
    "df['_met_ath_week'] = df['d_met_ath_days'] // 7\n",
    "df['_met_ath_month'] = df['d_met_ath_days'] // 30\n",
    "\n",
    "df['_met_atl_week'] = df['d_met_atl_days'] // 7\n",
    "df['_met_atl_month'] = df['d_met_atl_days'] // 30\n"
   ]
  },
  {
   "cell_type": "code",
   "execution_count": 8,
   "id": "f33079b9-1262-40e3-a77f-8ab91495777d",
   "metadata": {},
   "outputs": [],
   "source": [
    "df = df_crypto_listings_sorted"
   ]
  },
  {
   "cell_type": "code",
   "execution_count": 9,
   "id": "1fbedad0-b5ab-40ef-b243-dfd159175587",
   "metadata": {},
   "outputs": [
    {
     "name": "stdout",
     "output_type": "stream",
     "text": [
      "<class 'pandas.core.frame.DataFrame'>\n",
      "Index: 10000 entries, BTC to WNEON\n",
      "Data columns (total 31 columns):\n",
      " #   Column                            Non-Null Count  Dtype  \n",
      "---  ------                            --------------  -----  \n",
      " 0   row_names                         10000 non-null  int64  \n",
      " 1   id                                10000 non-null  int64  \n",
      " 2   name                              10000 non-null  object \n",
      " 3   slug                              10000 non-null  object \n",
      " 4   cmc_rank                          10000 non-null  int64  \n",
      " 5   market_pair_count                 10000 non-null  int64  \n",
      " 6   circulating_supply                10000 non-null  float64\n",
      " 7   self_reported_circulating_supply  10000 non-null  float64\n",
      " 8   total_supply                      10000 non-null  float64\n",
      " 9   max_supply                        6552 non-null   float64\n",
      " 10  is_active                         10000 non-null  int64  \n",
      " 11  last_updated                      10000 non-null  object \n",
      " 12  date_added                        10000 non-null  object \n",
      " 13  wrapped_staked_mc_rank            128 non-null    float64\n",
      " 14  ref_currency                      10000 non-null  object \n",
      " 15  price                             10000 non-null  float64\n",
      " 16  volume24h                         10000 non-null  float64\n",
      " 17  market_cap                        10000 non-null  float64\n",
      " 18  percent_change1h                  10000 non-null  float64\n",
      " 19  percent_change24h                 10000 non-null  float64\n",
      " 20  percent_change7d                  10000 non-null  float64\n",
      " 21  percent_change30d                 10000 non-null  float64\n",
      " 22  percent_change60d                 10000 non-null  float64\n",
      " 23  percent_change90d                 10000 non-null  float64\n",
      " 24  fully_dillutted_market_cap        10000 non-null  float64\n",
      " 25  market_cap_by_total_supply        10000 non-null  float64\n",
      " 26  dominance                         10000 non-null  float64\n",
      " 27  turnover                          8629 non-null   float64\n",
      " 28  ytd_price_change_percentage       10000 non-null  float64\n",
      " 29  percent_change1y                  10000 non-null  float64\n",
      " 30  tvl                               88 non-null     float64\n",
      "dtypes: float64(21), int64(5), object(5)\n",
      "memory usage: 2.7+ MB\n"
     ]
    }
   ],
   "source": [
    "df.info()"
   ]
  },
  {
   "cell_type": "code",
   "execution_count": 10,
   "id": "9038b65a-b033-4dca-816a-d379b0ad0f57",
   "metadata": {},
   "outputs": [],
   "source": [
    "\n",
    "# Convert 'date_added' and 'last_updated' columns to datetime without time zone information\n",
    "df['date_added'] = pd.to_datetime(df['date_added'], errors='coerce').dt.tz_localize(None)\n",
    "df['last_updated'] = pd.to_datetime(df['last_updated'], errors='coerce').dt.tz_localize(None)\n",
    "\n",
    "# Ensure there are no NaT values in 'date_added' or 'last_updated'\n",
    "df = df.dropna(subset=['date_added', 'last_updated'])\n",
    "\n",
    "# Step 1: Calculate CoinAge in Days, Months, and Years\n",
    "current_date = pd.Timestamp.now().normalize()  # Normalize to remove time part if present\n",
    "df['d_met_coin_age_d'] = (current_date - df['date_added']).dt.days\n",
    "df['d_met_coin_age_m'] = df['d_met_coin_age_d'] // 30  # Approximate months\n",
    "df['d_met_coin_age_y'] = df['d_met_coin_age_d'] // 365  # Approximate years\n",
    "\n",
    "# Step 2: Categorize Market Capitalization\n",
    "def categorize_market_cap(market_cap):\n",
    "    if market_cap >= 1e12:\n",
    "        return '1T-100B'\n",
    "    elif market_cap >= 1e11:\n",
    "        return '100B-10B'\n",
    "    elif market_cap >= 1e10:\n",
    "        return '10B-1B'\n",
    "    elif market_cap >= 1e9:\n",
    "        return '1B-100M'\n",
    "    elif market_cap >= 1e7:\n",
    "        return '100M-1M'\n",
    "    else:\n",
    "        return 'Under1M'\n",
    "\n",
    "df['m_cap_cat'] = df['market_cap'].apply(categorize_market_cap)\n"
   ]
  },
  {
   "cell_type": "code",
   "execution_count": 11,
   "id": "1da7194c-3e3e-4b4c-9ee0-45ec9219ea18",
   "metadata": {
    "scrolled": true
   },
   "outputs": [
    {
     "data": {
      "text/plain": [
       "\"\\nIssue:\\n\\n# Calculate differences\\ndf['TotalSupply_MaxSupply'] = df['total_supply'] - df['max_supply']\\ndf['MaxSupply_CirculatingSupply'] = df['max_supply'] - df['circulating_supply']\\ndf['TotalSupply_CirculatingSupply'] = df['total_supply'] - df['circulating_supply']\\n\\n# Display the updated DataFrame\\nprint(df[['slug', 'total_supply', 'max_supply', 'circulating_supply', 'TotalSupply_MaxSupply', 'MaxSupply_CirculatingSupply', 'TotalSupply_CirculatingSupply']].head())\""
      ]
     },
     "execution_count": 11,
     "metadata": {},
     "output_type": "execute_result"
    }
   ],
   "source": [
    "\"\"\"\n",
    "Issue:\n",
    "\n",
    "# Calculate differences\n",
    "df['TotalSupply_MaxSupply'] = df['total_supply'] - df['max_supply']\n",
    "df['MaxSupply_CirculatingSupply'] = df['max_supply'] - df['circulating_supply']\n",
    "df['TotalSupply_CirculatingSupply'] = df['total_supply'] - df['circulating_supply']\n",
    "\n",
    "# Display the updated DataFrame\n",
    "print(df[['slug', 'total_supply', 'max_supply', 'circulating_supply', 'TotalSupply_MaxSupply', 'MaxSupply_CirculatingSupply', 'TotalSupply_CirculatingSupply']].head())\"\"\""
   ]
  },
  {
   "cell_type": "code",
   "execution_count": 12,
   "id": "36053c3d-710c-4880-8585-e9d0d4718985",
   "metadata": {},
   "outputs": [
    {
     "name": "stdout",
     "output_type": "stream",
     "text": [
      "<class 'pandas.core.frame.DataFrame'>\n",
      "Index: 10000 entries, BTC to WNEON\n",
      "Data columns (total 35 columns):\n",
      " #   Column                            Non-Null Count  Dtype         \n",
      "---  ------                            --------------  -----         \n",
      " 0   row_names                         10000 non-null  int64         \n",
      " 1   id                                10000 non-null  int64         \n",
      " 2   name                              10000 non-null  object        \n",
      " 3   slug                              10000 non-null  object        \n",
      " 4   cmc_rank                          10000 non-null  int64         \n",
      " 5   market_pair_count                 10000 non-null  int64         \n",
      " 6   circulating_supply                10000 non-null  float64       \n",
      " 7   self_reported_circulating_supply  10000 non-null  float64       \n",
      " 8   total_supply                      10000 non-null  float64       \n",
      " 9   max_supply                        6552 non-null   float64       \n",
      " 10  is_active                         10000 non-null  int64         \n",
      " 11  last_updated                      10000 non-null  datetime64[ns]\n",
      " 12  date_added                        10000 non-null  datetime64[ns]\n",
      " 13  wrapped_staked_mc_rank            128 non-null    float64       \n",
      " 14  ref_currency                      10000 non-null  object        \n",
      " 15  price                             10000 non-null  float64       \n",
      " 16  volume24h                         10000 non-null  float64       \n",
      " 17  market_cap                        10000 non-null  float64       \n",
      " 18  percent_change1h                  10000 non-null  float64       \n",
      " 19  percent_change24h                 10000 non-null  float64       \n",
      " 20  percent_change7d                  10000 non-null  float64       \n",
      " 21  percent_change30d                 10000 non-null  float64       \n",
      " 22  percent_change60d                 10000 non-null  float64       \n",
      " 23  percent_change90d                 10000 non-null  float64       \n",
      " 24  fully_dillutted_market_cap        10000 non-null  float64       \n",
      " 25  market_cap_by_total_supply        10000 non-null  float64       \n",
      " 26  dominance                         10000 non-null  float64       \n",
      " 27  turnover                          8629 non-null   float64       \n",
      " 28  ytd_price_change_percentage       10000 non-null  float64       \n",
      " 29  percent_change1y                  10000 non-null  float64       \n",
      " 30  tvl                               88 non-null     float64       \n",
      " 31  d_met_coin_age_d                  10000 non-null  int64         \n",
      " 32  d_met_coin_age_m                  10000 non-null  int64         \n",
      " 33  d_met_coin_age_y                  10000 non-null  int64         \n",
      " 34  m_cap_cat                         10000 non-null  object        \n",
      "dtypes: datetime64[ns](2), float64(21), int64(8), object(4)\n",
      "memory usage: 3.0+ MB\n"
     ]
    }
   ],
   "source": [
    "df.info()"
   ]
  },
  {
   "cell_type": "code",
   "execution_count": 13,
   "id": "79cae93b-dd2a-4511-94bf-4c4318f7913b",
   "metadata": {},
   "outputs": [],
   "source": [
    "# @title Binary DF"
   ]
  },
  {
   "cell_type": "code",
   "execution_count": null,
   "id": "8e7a66e5-230a-47ce-bc64-a95a8faba709",
   "metadata": {},
   "outputs": [],
   "source": []
  }
 ],
 "metadata": {
  "kernelspec": {
   "display_name": "Python 3 (ipykernel)",
   "language": "python",
   "name": "python3"
  },
  "language_info": {
   "codemirror_mode": {
    "name": "ipython",
    "version": 3
   },
   "file_extension": ".py",
   "mimetype": "text/x-python",
   "name": "python",
   "nbconvert_exporter": "python",
   "pygments_lexer": "ipython3",
   "version": "3.11.7"
  }
 },
 "nbformat": 4,
 "nbformat_minor": 5
}
